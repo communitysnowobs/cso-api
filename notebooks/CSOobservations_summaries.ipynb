{
 "cells": [
  {
   "cell_type": "markdown",
   "metadata": {},
   "source": [
    "# Summaries of CSO snow depth observations\n",
    "\n",
    "2021-5-22. https://github.com/emiliom/\n",
    "\n",
    "Generate summary information and plots of CSO snow depth observations for a user-defined period of time. This notebook can be re-run as desired to produce standardized summaries."
   ]
  },
  {
   "cell_type": "code",
   "execution_count": 1,
   "metadata": {},
   "outputs": [],
   "source": [
    "from datetime import datetime, timezone\n",
    "\n",
    "import requests\n",
    "import matplotlib.pyplot as plt\n",
    "import pandas as pd\n",
    "import geopandas as gpd\n",
    "import cartopy.crs as ccrs"
   ]
  },
  {
   "cell_type": "markdown",
   "metadata": {},
   "source": [
    "## CSO API request"
   ]
  },
  {
   "cell_type": "code",
   "execution_count": 2,
   "metadata": {},
   "outputs": [],
   "source": [
    "date_start = '2020-6-30'\n",
    "date_end = '2021-5-5'\n",
    "\n",
    "params = {\n",
    "  \"startDate\": date_start,\n",
    "  \"endDate\": date_end,\n",
    "  \"format\": \"geojson\",\n",
    "  \"limit\": 100000,\n",
    "}\n",
    "\n",
    "csodata_resp = requests.get(\"https://api.communitysnowobs.org/observations\", params=params)\n",
    "csodatajson = csodata_resp.json()"
   ]
  },
  {
   "cell_type": "code",
   "execution_count": 3,
   "metadata": {},
   "outputs": [],
   "source": [
    "obs_cso_gdf = gpd.GeoDataFrame.from_features(csodatajson, crs='epsg:4326')"
   ]
  },
  {
   "cell_type": "markdown",
   "metadata": {},
   "source": [
    "CSO `timestamp` was read as a string, not a datetime or timestamp."
   ]
  },
  {
   "cell_type": "code",
   "execution_count": 4,
   "metadata": {},
   "outputs": [],
   "source": [
    "obs_cso_gdf['timestamp'] = pd.to_datetime(obs_cso_gdf.timestamp)\n",
    "obs_cso_gdf.sort_values('timestamp', ascending=False, inplace=True)"
   ]
  },
  {
   "cell_type": "code",
   "execution_count": 5,
   "metadata": {},
   "outputs": [
    {
     "data": {
      "text/plain": [
       "(Timestamp('2020-07-02 02:00:00+0000', tz='UTC'),\n",
       " Timestamp('2021-05-04 23:29:25.992000+0000', tz='UTC'))"
      ]
     },
     "execution_count": 5,
     "metadata": {},
     "output_type": "execute_result"
    }
   ],
   "source": [
    "obs_cso_gdf.timestamp.min(), obs_cso_gdf.timestamp.max()"
   ]
  },
  {
   "cell_type": "markdown",
   "metadata": {},
   "source": [
    "## Generate summaries"
   ]
  },
  {
   "cell_type": "markdown",
   "metadata": {},
   "source": [
    "### Number of individual submitters"
   ]
  },
  {
   "cell_type": "code",
   "execution_count": 6,
   "metadata": {},
   "outputs": [
    {
     "data": {
      "text/plain": [
       "1555"
      ]
     },
     "execution_count": 6,
     "metadata": {},
     "output_type": "execute_result"
    }
   ],
   "source": [
    "len(obs_cso_gdf.author.unique())"
   ]
  },
  {
   "cell_type": "markdown",
   "metadata": {},
   "source": [
    "### Total observations"
   ]
  },
  {
   "cell_type": "code",
   "execution_count": 7,
   "metadata": {},
   "outputs": [
    {
     "data": {
      "text/plain": [
       "7585"
      ]
     },
     "execution_count": 7,
     "metadata": {},
     "output_type": "execute_result"
    }
   ],
   "source": [
    "len(obs_cso_gdf)"
   ]
  },
  {
   "cell_type": "markdown",
   "metadata": {},
   "source": [
    "### By data source"
   ]
  },
  {
   "cell_type": "code",
   "execution_count": 8,
   "metadata": {},
   "outputs": [
    {
     "data": {
      "text/plain": [
       "SnowPilot      3440\n",
       "regObs         2867\n",
       "MountainHub    1278\n",
       "Name: source, dtype: int64"
      ]
     },
     "execution_count": 8,
     "metadata": {},
     "output_type": "execute_result"
    }
   ],
   "source": [
    "obs_cso_gdf.source.value_counts()"
   ]
  },
  {
   "cell_type": "markdown",
   "metadata": {},
   "source": [
    "### By month\n",
    "\n",
    "**TODO**"
   ]
  },
  {
   "cell_type": "markdown",
   "metadata": {},
   "source": [
    "### Map plot showing observations by country"
   ]
  },
  {
   "cell_type": "code",
   "execution_count": 9,
   "metadata": {},
   "outputs": [
    {
     "data": {
      "text/html": [
       "<div>\n",
       "<style scoped>\n",
       "    .dataframe tbody tr th:only-of-type {\n",
       "        vertical-align: middle;\n",
       "    }\n",
       "\n",
       "    .dataframe tbody tr th {\n",
       "        vertical-align: top;\n",
       "    }\n",
       "\n",
       "    .dataframe thead th {\n",
       "        text-align: right;\n",
       "    }\n",
       "</style>\n",
       "<table border=\"1\" class=\"dataframe\">\n",
       "  <thead>\n",
       "    <tr style=\"text-align: right;\">\n",
       "      <th></th>\n",
       "      <th>pop_est</th>\n",
       "      <th>continent</th>\n",
       "      <th>name</th>\n",
       "      <th>iso_a3</th>\n",
       "      <th>gdp_md_est</th>\n",
       "      <th>geometry</th>\n",
       "    </tr>\n",
       "  </thead>\n",
       "  <tbody>\n",
       "    <tr>\n",
       "      <th>0</th>\n",
       "      <td>920938</td>\n",
       "      <td>Oceania</td>\n",
       "      <td>Fiji</td>\n",
       "      <td>FJI</td>\n",
       "      <td>8374.0</td>\n",
       "      <td>MULTIPOLYGON (((180.00000 -16.06713, 180.00000...</td>\n",
       "    </tr>\n",
       "    <tr>\n",
       "      <th>1</th>\n",
       "      <td>53950935</td>\n",
       "      <td>Africa</td>\n",
       "      <td>Tanzania</td>\n",
       "      <td>TZA</td>\n",
       "      <td>150600.0</td>\n",
       "      <td>POLYGON ((33.90371 -0.95000, 34.07262 -1.05982...</td>\n",
       "    </tr>\n",
       "  </tbody>\n",
       "</table>\n",
       "</div>"
      ],
      "text/plain": [
       "    pop_est continent      name iso_a3  gdp_md_est  \\\n",
       "0    920938   Oceania      Fiji    FJI      8374.0   \n",
       "1  53950935    Africa  Tanzania    TZA    150600.0   \n",
       "\n",
       "                                            geometry  \n",
       "0  MULTIPOLYGON (((180.00000 -16.06713, 180.00000...  \n",
       "1  POLYGON ((33.90371 -0.95000, 34.07262 -1.05982...  "
      ]
     },
     "execution_count": 9,
     "metadata": {},
     "output_type": "execute_result"
    }
   ],
   "source": [
    "world = gpd.read_file(gpd.datasets.get_path('naturalearth_lowres'))\n",
    "world.head(2)"
   ]
  },
  {
   "cell_type": "code",
   "execution_count": 10,
   "metadata": {},
   "outputs": [
    {
     "data": {
      "text/html": [
       "<div>\n",
       "<style scoped>\n",
       "    .dataframe tbody tr th:only-of-type {\n",
       "        vertical-align: middle;\n",
       "    }\n",
       "\n",
       "    .dataframe tbody tr th {\n",
       "        vertical-align: top;\n",
       "    }\n",
       "\n",
       "    .dataframe thead th {\n",
       "        text-align: right;\n",
       "    }\n",
       "</style>\n",
       "<table border=\"1\" class=\"dataframe\">\n",
       "  <thead>\n",
       "    <tr style=\"text-align: right;\">\n",
       "      <th></th>\n",
       "      <th>geometry</th>\n",
       "      <th>id</th>\n",
       "      <th>author</th>\n",
       "      <th>depth</th>\n",
       "      <th>source</th>\n",
       "      <th>timestamp</th>\n",
       "      <th>elevation</th>\n",
       "      <th>index_right</th>\n",
       "      <th>pop_est</th>\n",
       "      <th>continent</th>\n",
       "      <th>name</th>\n",
       "      <th>iso_a3</th>\n",
       "      <th>gdp_md_est</th>\n",
       "    </tr>\n",
       "  </thead>\n",
       "  <tbody>\n",
       "    <tr>\n",
       "      <th>0</th>\n",
       "      <td>POINT (-151.66212 59.44492)</td>\n",
       "      <td>v3iKgrDC</td>\n",
       "      <td>Erin Mckittrick</td>\n",
       "      <td>172.0</td>\n",
       "      <td>MountainHub</td>\n",
       "      <td>2021-05-04 23:29:25.992000+00:00</td>\n",
       "      <td>464.821625</td>\n",
       "      <td>4</td>\n",
       "      <td>326625791</td>\n",
       "      <td>North America</td>\n",
       "      <td>United States of America</td>\n",
       "      <td>USA</td>\n",
       "      <td>18560000.0</td>\n",
       "    </tr>\n",
       "    <tr>\n",
       "      <th>1</th>\n",
       "      <td>POINT (-151.67401 59.45491)</td>\n",
       "      <td>zuHMmrDW</td>\n",
       "      <td>Erin Mckittrick</td>\n",
       "      <td>136.0</td>\n",
       "      <td>MountainHub</td>\n",
       "      <td>2021-05-04 23:00:32.688000+00:00</td>\n",
       "      <td>338.914948</td>\n",
       "      <td>4</td>\n",
       "      <td>326625791</td>\n",
       "      <td>North America</td>\n",
       "      <td>United States of America</td>\n",
       "      <td>USA</td>\n",
       "      <td>18560000.0</td>\n",
       "    </tr>\n",
       "    <tr>\n",
       "      <th>2</th>\n",
       "      <td>POINT (-120.06531 38.67496)</td>\n",
       "      <td>I4auktiC</td>\n",
       "      <td>Benjamin Hatchett</td>\n",
       "      <td>60.0</td>\n",
       "      <td>MountainHub</td>\n",
       "      <td>2021-05-04 22:21:32.114000+00:00</td>\n",
       "      <td>2571.897949</td>\n",
       "      <td>4</td>\n",
       "      <td>326625791</td>\n",
       "      <td>North America</td>\n",
       "      <td>United States of America</td>\n",
       "      <td>USA</td>\n",
       "      <td>18560000.0</td>\n",
       "    </tr>\n",
       "    <tr>\n",
       "      <th>7</th>\n",
       "      <td>POINT (-113.71150 48.71625)</td>\n",
       "      <td>4j4bjVNg</td>\n",
       "      <td>Zachary Miller</td>\n",
       "      <td>203.0</td>\n",
       "      <td>SnowPilot</td>\n",
       "      <td>2021-05-04 17:15:00+00:00</td>\n",
       "      <td>2294.267090</td>\n",
       "      <td>4</td>\n",
       "      <td>326625791</td>\n",
       "      <td>North America</td>\n",
       "      <td>United States of America</td>\n",
       "      <td>USA</td>\n",
       "      <td>18560000.0</td>\n",
       "    </tr>\n",
       "    <tr>\n",
       "      <th>16</th>\n",
       "      <td>POINT (-151.68551 59.45970)</td>\n",
       "      <td>bj9e0r8m</td>\n",
       "      <td>Erin Mckittrick</td>\n",
       "      <td>60.0</td>\n",
       "      <td>MountainHub</td>\n",
       "      <td>2021-05-04 01:17:51.921000+00:00</td>\n",
       "      <td>142.721786</td>\n",
       "      <td>4</td>\n",
       "      <td>326625791</td>\n",
       "      <td>North America</td>\n",
       "      <td>United States of America</td>\n",
       "      <td>USA</td>\n",
       "      <td>18560000.0</td>\n",
       "    </tr>\n",
       "  </tbody>\n",
       "</table>\n",
       "</div>"
      ],
      "text/plain": [
       "                       geometry        id             author  depth  \\\n",
       "0   POINT (-151.66212 59.44492)  v3iKgrDC    Erin Mckittrick  172.0   \n",
       "1   POINT (-151.67401 59.45491)  zuHMmrDW    Erin Mckittrick  136.0   \n",
       "2   POINT (-120.06531 38.67496)  I4auktiC  Benjamin Hatchett   60.0   \n",
       "7   POINT (-113.71150 48.71625)  4j4bjVNg     Zachary Miller  203.0   \n",
       "16  POINT (-151.68551 59.45970)  bj9e0r8m    Erin Mckittrick   60.0   \n",
       "\n",
       "         source                        timestamp    elevation  index_right  \\\n",
       "0   MountainHub 2021-05-04 23:29:25.992000+00:00   464.821625            4   \n",
       "1   MountainHub 2021-05-04 23:00:32.688000+00:00   338.914948            4   \n",
       "2   MountainHub 2021-05-04 22:21:32.114000+00:00  2571.897949            4   \n",
       "7     SnowPilot        2021-05-04 17:15:00+00:00  2294.267090            4   \n",
       "16  MountainHub 2021-05-04 01:17:51.921000+00:00   142.721786            4   \n",
       "\n",
       "      pop_est      continent                      name iso_a3  gdp_md_est  \n",
       "0   326625791  North America  United States of America    USA  18560000.0  \n",
       "1   326625791  North America  United States of America    USA  18560000.0  \n",
       "2   326625791  North America  United States of America    USA  18560000.0  \n",
       "7   326625791  North America  United States of America    USA  18560000.0  \n",
       "16  326625791  North America  United States of America    USA  18560000.0  "
      ]
     },
     "execution_count": 10,
     "metadata": {},
     "output_type": "execute_result"
    }
   ],
   "source": [
    "obs_cso_countries_gdf = gpd.sjoin(obs_cso_gdf, world, how=\"inner\")\n",
    "obs_cso_countries_gdf.head()"
   ]
  },
  {
   "cell_type": "markdown",
   "metadata": {},
   "source": [
    "Now do a group-by with count, on `name` (country name). Note that `iso_a3` has a corrupted (?) code of \"-99\" for 5 disparate countries, which corrupts the merge operation if used as the key."
   ]
  },
  {
   "cell_type": "code",
   "execution_count": 11,
   "metadata": {},
   "outputs": [
    {
     "data": {
      "text/html": [
       "<div>\n",
       "<style scoped>\n",
       "    .dataframe tbody tr th:only-of-type {\n",
       "        vertical-align: middle;\n",
       "    }\n",
       "\n",
       "    .dataframe tbody tr th {\n",
       "        vertical-align: top;\n",
       "    }\n",
       "\n",
       "    .dataframe thead th {\n",
       "        text-align: right;\n",
       "    }\n",
       "</style>\n",
       "<table border=\"1\" class=\"dataframe\">\n",
       "  <thead>\n",
       "    <tr style=\"text-align: right;\">\n",
       "      <th></th>\n",
       "      <th>cso_obs_count</th>\n",
       "    </tr>\n",
       "    <tr>\n",
       "      <th>name</th>\n",
       "      <th></th>\n",
       "    </tr>\n",
       "  </thead>\n",
       "  <tbody>\n",
       "    <tr>\n",
       "      <th>Antarctica</th>\n",
       "      <td>2</td>\n",
       "    </tr>\n",
       "    <tr>\n",
       "      <th>Argentina</th>\n",
       "      <td>27</td>\n",
       "    </tr>\n",
       "    <tr>\n",
       "      <th>Australia</th>\n",
       "      <td>1</td>\n",
       "    </tr>\n",
       "    <tr>\n",
       "      <th>Austria</th>\n",
       "      <td>2</td>\n",
       "    </tr>\n",
       "    <tr>\n",
       "      <th>Bulgaria</th>\n",
       "      <td>14</td>\n",
       "    </tr>\n",
       "  </tbody>\n",
       "</table>\n",
       "</div>"
      ],
      "text/plain": [
       "            cso_obs_count\n",
       "name                     \n",
       "Antarctica              2\n",
       "Argentina              27\n",
       "Australia               1\n",
       "Austria                 2\n",
       "Bulgaria               14"
      ]
     },
     "execution_count": 11,
     "metadata": {},
     "output_type": "execute_result"
    }
   ],
   "source": [
    "bycountry_cnt = pd.DataFrame(obs_cso_countries_gdf.groupby('name')['name'].count())\n",
    "bycountry_cnt.rename(columns={'name': 'cso_obs_count'}, inplace=True)\n",
    "bycountry_cnt.head()"
   ]
  },
  {
   "cell_type": "markdown",
   "metadata": {},
   "source": [
    "Merge this dataframe with `world`, to then generate the choropleth map by country"
   ]
  },
  {
   "cell_type": "code",
   "execution_count": 12,
   "metadata": {},
   "outputs": [],
   "source": [
    "world = pd.merge(\n",
    "    world, bycountry_cnt, how='left', \n",
    "    left_on=['name'], right_on=['name']\n",
    ")\n",
    "world['cso_obs_count'] = world['cso_obs_count'].fillna(0).astype(int)"
   ]
  },
  {
   "cell_type": "code",
   "execution_count": 13,
   "metadata": {},
   "outputs": [
    {
     "data": {
      "text/html": [
       "<div>\n",
       "<style scoped>\n",
       "    .dataframe tbody tr th:only-of-type {\n",
       "        vertical-align: middle;\n",
       "    }\n",
       "\n",
       "    .dataframe tbody tr th {\n",
       "        vertical-align: top;\n",
       "    }\n",
       "\n",
       "    .dataframe thead th {\n",
       "        text-align: right;\n",
       "    }\n",
       "</style>\n",
       "<table border=\"1\" class=\"dataframe\">\n",
       "  <thead>\n",
       "    <tr style=\"text-align: right;\">\n",
       "      <th></th>\n",
       "      <th>pop_est</th>\n",
       "      <th>continent</th>\n",
       "      <th>name</th>\n",
       "      <th>iso_a3</th>\n",
       "      <th>gdp_md_est</th>\n",
       "      <th>geometry</th>\n",
       "      <th>cso_obs_count</th>\n",
       "    </tr>\n",
       "  </thead>\n",
       "  <tbody>\n",
       "    <tr>\n",
       "      <th>0</th>\n",
       "      <td>920938</td>\n",
       "      <td>Oceania</td>\n",
       "      <td>Fiji</td>\n",
       "      <td>FJI</td>\n",
       "      <td>8374.0</td>\n",
       "      <td>MULTIPOLYGON (((180.00000 -16.06713, 180.00000...</td>\n",
       "      <td>0</td>\n",
       "    </tr>\n",
       "    <tr>\n",
       "      <th>1</th>\n",
       "      <td>53950935</td>\n",
       "      <td>Africa</td>\n",
       "      <td>Tanzania</td>\n",
       "      <td>TZA</td>\n",
       "      <td>150600.0</td>\n",
       "      <td>POLYGON ((33.90371 -0.95000, 34.07262 -1.05982...</td>\n",
       "      <td>0</td>\n",
       "    </tr>\n",
       "    <tr>\n",
       "      <th>2</th>\n",
       "      <td>603253</td>\n",
       "      <td>Africa</td>\n",
       "      <td>W. Sahara</td>\n",
       "      <td>ESH</td>\n",
       "      <td>906.5</td>\n",
       "      <td>POLYGON ((-8.66559 27.65643, -8.66512 27.58948...</td>\n",
       "      <td>0</td>\n",
       "    </tr>\n",
       "    <tr>\n",
       "      <th>3</th>\n",
       "      <td>35623680</td>\n",
       "      <td>North America</td>\n",
       "      <td>Canada</td>\n",
       "      <td>CAN</td>\n",
       "      <td>1674000.0</td>\n",
       "      <td>MULTIPOLYGON (((-122.84000 49.00000, -122.9742...</td>\n",
       "      <td>331</td>\n",
       "    </tr>\n",
       "    <tr>\n",
       "      <th>4</th>\n",
       "      <td>326625791</td>\n",
       "      <td>North America</td>\n",
       "      <td>United States of America</td>\n",
       "      <td>USA</td>\n",
       "      <td>18560000.0</td>\n",
       "      <td>MULTIPOLYGON (((-122.84000 49.00000, -120.0000...</td>\n",
       "      <td>3356</td>\n",
       "    </tr>\n",
       "  </tbody>\n",
       "</table>\n",
       "</div>"
      ],
      "text/plain": [
       "     pop_est      continent                      name iso_a3  gdp_md_est  \\\n",
       "0     920938        Oceania                      Fiji    FJI      8374.0   \n",
       "1   53950935         Africa                  Tanzania    TZA    150600.0   \n",
       "2     603253         Africa                 W. Sahara    ESH       906.5   \n",
       "3   35623680  North America                    Canada    CAN   1674000.0   \n",
       "4  326625791  North America  United States of America    USA  18560000.0   \n",
       "\n",
       "                                            geometry  cso_obs_count  \n",
       "0  MULTIPOLYGON (((180.00000 -16.06713, 180.00000...              0  \n",
       "1  POLYGON ((33.90371 -0.95000, 34.07262 -1.05982...              0  \n",
       "2  POLYGON ((-8.66559 27.65643, -8.66512 27.58948...              0  \n",
       "3  MULTIPOLYGON (((-122.84000 49.00000, -122.9742...            331  \n",
       "4  MULTIPOLYGON (((-122.84000 49.00000, -120.0000...           3356  "
      ]
     },
     "execution_count": 13,
     "metadata": {},
     "output_type": "execute_result"
    }
   ],
   "source": [
    "world.head()"
   ]
  },
  {
   "cell_type": "code",
   "execution_count": 14,
   "metadata": {},
   "outputs": [
    {
     "data": {
      "image/png": "[encoded data removed]",
      "text/plain": [
       "<Figure size 864x576 with 1 Axes>"
      ]
     },
     "metadata": {
      "needs_background": "light"
     },
     "output_type": "display_data"
    }
   ],
   "source": [
    "fig, ax = plt.subplots(\n",
    "    figsize=(12, 8), subplot_kw={\"projection\": ccrs.Mercator()}\n",
    ")\n",
    "\n",
    "now_utc = datetime.utcnow().strftime(\"%Y-%m-%d %H:%M Z\")\n",
    "ax.set_title(f\"Observations by country, {date_start} to {date_end} ({now_utc})\")\n",
    "world.plot(\n",
    "    ax=ax, column='cso_obs_count', \n",
    "    scheme='user_defined', cmap=plt.cm.Blues, classification_kwds=dict(bins=[.999, 5.1, 20.1, 100.1, 500.1, 2000.1]),\n",
    "    linewidth=0.4, edgecolor='gray', \n",
    "    legend=True, legend_kwds={\n",
    "        \"loc\": \"lower left\", \n",
    "        \"title\": \"Number of \\nobservations\",\n",
    "        \"fmt\": \"{:.0f}\",\n",
    "        \"labels\": [\n",
    "            \"0\", \n",
    "            \"1 - 5\", \n",
    "            \"6 - 20\", \n",
    "            \"21 - 100\", \n",
    "            \"101 - 500\", \n",
    "            \"501 - 2000\", \n",
    "            f\"2001 - {world.cso_obs_count.max()}\"\n",
    "        ]\n",
    "    },\n",
    "    transform=ccrs.PlateCarree()\n",
    ")\n",
    "\n",
    "obs_cso_gdf.plot(ax=ax, markersize=3, color='red', edgecolor='none', \n",
    "                 transform=ccrs.PlateCarree());"
   ]
  },
  {
   "cell_type": "markdown",
   "metadata": {},
   "source": [
    "### Map plot showing observations by country for MountainHub only\n",
    "\n",
    "**TODO**"
   ]
  },
  {
   "cell_type": "code",
   "execution_count": null,
   "metadata": {},
   "outputs": [],
   "source": []
  }
 ],
 "metadata": {
  "kernelspec": {
   "display_name": "Python [conda env:cso_obsdata]",
   "language": "python",
   "name": "conda-env-cso_obsdata-py"
  },
  "language_info": {
   "codemirror_mode": {
    "name": "ipython",
    "version": 3
   },
   "file_extension": ".py",
   "mimetype": "text/x-python",
   "name": "python",
   "nbconvert_exporter": "python",
   "pygments_lexer": "ipython3",
   "version": "3.9.2"
  }
 },
 "nbformat": 4,
 "nbformat_minor": 4
}
